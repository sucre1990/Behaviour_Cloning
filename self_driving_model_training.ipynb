{
 "cells": [
  {
   "cell_type": "code",
   "execution_count": 1,
   "metadata": {
    "collapsed": true
   },
   "outputs": [],
   "source": [
    "import os\n",
    "import csv\n",
    "import cv2\n",
    "import numpy as np\n",
    "import matplotlib.pyplot as plt\n",
    "import sklearn\n",
    "from sklearn.utils import shuffle\n",
    "from sklearn.model_selection import train_test_split\n",
    "\n",
    "%matplotlib inline\n",
    "\n",
    "lines = []\n",
    "with open('data/driving_log.csv') as csvfile:\n",
    "    reader = csv.reader(csvfile)\n",
    "    header = next(reader, None)\n",
    "    for line in reader:\n",
    "        lines.append(line)\n",
    "\n",
    "train_data, validation_data = train_test_split(lines, test_size = 0.2)\n",
    "def augmentation_flip(image, angle):\n",
    "    flipped_image = np.fliplr(image)\n",
    "    flipped_angle = -angle\n",
    "    return flipped_image, flipped_angle\n",
    "\n",
    "def preprocessing_images(image):\n",
    "    #corping the top and bottom image\n",
    "    new_image = image[50:140,:,:]\n",
    "    #converting to YUV color space as (nivida's paper's structure)\n",
    "    new_image = cv2.resize(new_image,(200, 66), interpolation = cv2.INTER_AREA)\n",
    "    new_image = cv2.cvtColor(new_image, cv2.COLOR_BGR2YUV) \n",
    "    #normalization\n",
    "\n",
    "    return new_image\n",
    "def image_generator(samples, flipped_aug = True, batch_size = 32):\n",
    "    num_samples = len(samples)\n",
    "    while 1:\n",
    "        shuffle(samples)\n",
    "        for offset in range(0, num_samples, batch_size):\n",
    "            batch_samples = samples[offset:offset+batch_size]\n",
    "            \n",
    "            images = []\n",
    "            angles=[]\n",
    "            for batch_sample in batch_samples:\n",
    "                name = 'data/IMG/' + batch_sample[0].split('/')[-1]\n",
    "                center_image = cv2.imread(name)\n",
    "                center_angle = float(batch_sample[3])\n",
    "                \n",
    "                # Converting image to YUV color space, resize to 66 * 200 and normalize\n",
    "                center_image = preprocessing_images(center_image)\n",
    "                \n",
    "                images.append(center_image)\n",
    "                angles.append(center_angle)\n",
    "                if flipped_aug == True:\n",
    "                    flipped_image, flipped_angle = augmentation_flip(center_image, center_angle)\n",
    "                    images.append(flipped_image)\n",
    "                    angles.append(flipped_angle)\n",
    "            X_image = np.array(images)\n",
    "            y_angle = np.array(angles)\n",
    "            yield shuffle(X_image, y_angle)\n",
    "\n",
    "train_generator = image_generator(train_data, batch_size = 32)\n",
    "validation_generator = image_generator( validation_data, batch_size = 32)\n",
    "\n"
   ]
  },
  {
   "cell_type": "code",
   "execution_count": 16,
   "metadata": {
    "collapsed": false
   },
   "outputs": [
    {
     "data": {
      "text/plain": [
       "(array([  739.,   666.,   969.,  1537.,  1684.,   330.,  1192.,   662.,\n",
       "          556.,   842.]),\n",
       " array([-0.9663736 , -0.76973624, -0.57309888, -0.37646152, -0.17982416,\n",
       "         0.0168132 ,  0.21345056,  0.41008792,  0.60672528,  0.80336264,  1.        ]),\n",
       " <a list of 10 Patch objects>)"
      ]
     },
     "execution_count": 16,
     "metadata": {},
     "output_type": "execute_result"
    },
    {
     "data": {
      "image/png": "[encoded data removed]",
      "text/plain": [
       "<matplotlib.figure.Figure at 0x7f645168c240>"
      ]
     },
     "metadata": {},
     "output_type": "display_data"
    }
   ],
   "source": [
    "steering_angles = []\n",
    "for line in lines:\n",
    "    control = np.random.choice(10,1)\n",
    "    if control[0] < 1 or np.abs(float(line[3])) > 0.2:\n",
    "        steering_angles.append(float(line[3]))\n",
    "steering_angles = np.array(steering_angles)\n",
    "\n",
    "plt.hist(steering_angles)"
   ]
  },
  {
   "cell_type": "code",
   "execution_count": 2,
   "metadata": {
    "collapsed": false
   },
   "outputs": [
    {
     "name": "stderr",
     "output_type": "stream",
     "text": [
      "Using TensorFlow backend.\n"
     ]
    },
    {
     "name": "stdout",
     "output_type": "stream",
     "text": [
      "Epoch 1/7\n",
      "42288/42288 [==============================] - 24s - loss: 0.1424 - val_loss: 0.0871\n",
      "Epoch 2/7\n",
      "42288/42288 [==============================] - 23s - loss: 0.0866 - val_loss: 0.0829\n",
      "Epoch 3/7\n",
      "42288/42288 [==============================] - 23s - loss: 0.0825 - val_loss: 0.0853\n",
      "Epoch 4/7\n",
      "42288/42288 [==============================] - 23s - loss: 0.0812 - val_loss: 0.0800\n",
      "Epoch 5/7\n",
      "42288/42288 [==============================] - 23s - loss: 0.0801 - val_loss: 0.0799\n",
      "Epoch 6/7\n",
      "42288/42288 [==============================] - 23s - loss: 0.0798 - val_loss: 0.0798\n",
      "Epoch 7/7\n",
      "42288/42288 [==============================] - 23s - loss: 0.0794 - val_loss: 0.0742\n"
     ]
    }
   ],
   "source": [
    "import tensorflow as tf\n",
    "import keras\n",
    "from keras.models import Sequential\n",
    "from keras.layers.core import Dense, Activation, Flatten, Lambda\n",
    "from keras.layers.convolutional import Convolution2D\n",
    "from keras.layers.pooling import MaxPooling2D\n",
    "from keras.regularizers import l2\n",
    "\n",
    "model = Sequential()\n",
    "model.add(Lambda(lambda x: x / 255. - 0.5, input_shape = (66, 200, 3)))\n",
    "#The network structre is mimicing from Nvidia' paper\n",
    "#First with 3 5x5 convolutional layers\n",
    "    #First 5x5 convlutional layer 24 filters\n",
    "model.add(Convolution2D(24, 5, 5, subsample=(2, 2), W_regularizer=l2(0.005)))\n",
    "\n",
    "model.add(Activation('relu'))\n",
    "    #Second 5x5 convlutional layer 36 filters\n",
    "model.add(Convolution2D(36, 5, 5, subsample=(2, 2), W_regularizer=l2(0.005)))\n",
    "model.add(Activation('relu'))\n",
    "    #Third 5x5 convlutional layer 48 filters\n",
    "model.add(Convolution2D(48, 5, 5, subsample=(2, 2), W_regularizer=l2(0.005)))\n",
    "model.add(Activation('relu'))\n",
    "\n",
    "#Then with 2 1-stride 3x3 convlolutional layers\n",
    "    #First3x3 convolutional layer\n",
    "model.add(Convolution2D(64, 3, 3, subsample=(1, 1), W_regularizer=l2(0.001)))\n",
    "model.add(Activation('relu'))\n",
    "    #First3x3 convolutional layer\n",
    "model.add(Convolution2D(64, 3, 3, subsample=(1, 1), W_regularizer=l2(0.001)))\n",
    "model.add(Activation('relu'))\n",
    "\n",
    "#At last with 3 fully connected layers\n",
    "    #Flatten the previous results\n",
    "model.add(Flatten())\n",
    "    #First fully connected layer\n",
    "model.add(Dense(100, W_regularizer=l2(0.001)))\n",
    "model.add(Activation('relu'))\n",
    "    #Second fully connected layer\n",
    "model.add(Dense(50, W_regularizer=l2(0.001)))\n",
    "model.add(Activation('relu'))\n",
    "    #Third fully connected layer\n",
    "model.add(Dense(10, W_regularizer=l2(0.001)))\n",
    "model.add(Activation('relu'))\n",
    "\n",
    "#Output layer\n",
    "model.add(Dense(1, W_regularizer=l2(0.001)))\n",
    "keras.optimizers.Adam(lr=0.01)\n",
    "model.compile(loss = 'mse', optimizer = 'adam')\n",
    "model.fit_generator(train_generator, samples_per_epoch=\\\n",
    "                    len(train_data) * 2, validation_data=validation_generator,\\\n",
    "            nb_val_samples=len(validation_data), nb_epoch=7)\n",
    "\n",
    "model.save('model.h5')\n"
   ]
  },
  {
   "cell_type": "code",
   "execution_count": 3,
   "metadata": {
    "collapsed": false
   },
   "outputs": [
    {
     "name": "stdout",
     "output_type": "stream",
     "text": [
      "Epoch 1/7\n",
      "50596/50596 [==============================] - 29s - loss: 0.1387 - val_loss: 0.0972\n",
      "Epoch 2/7\n",
      "50596/50596 [==============================] - 28s - loss: 0.0934 - val_loss: 0.0918\n",
      "Epoch 3/7\n",
      "50596/50596 [==============================] - 28s - loss: 0.0898 - val_loss: 0.0933\n",
      "Epoch 4/7\n",
      "50596/50596 [==============================] - 28s - loss: 0.0884 - val_loss: 0.0885\n",
      "Epoch 5/7\n",
      "50596/50596 [==============================] - 28s - loss: 0.0877 - val_loss: 0.0899\n",
      "Epoch 6/7\n",
      "50596/50596 [==============================] - 28s - loss: 0.0870 - val_loss: 0.0883\n",
      "Epoch 7/7\n",
      "50596/50596 [==============================] - 28s - loss: 0.0869 - val_loss: 0.0888\n"
     ]
    }
   ],
   "source": [
    "import tensorflow as tf\n",
    "import keras\n",
    "from keras.models import Sequential\n",
    "from keras.layers.core import Dense, Activation, Flatten, Lambda\n",
    "from keras.layers.convolutional import Convolution2D\n",
    "from keras.layers.pooling import MaxPooling2D\n",
    "from keras.regularizers import l2\n",
    "\n",
    "model = Sequential()\n",
    "model.add(Lambda(lambda x: x / 255. - 0.5, input_shape = (66, 200, 3)))\n",
    "#The network structre is mimicing from Nvidia' paper\n",
    "#First with 3 5x5 convolutional layers\n",
    "    #First 5x5 convlutional layer 24 filters\n",
    "model.add(Convolution2D(24, 5, 5, subsample=(2, 2), W_regularizer=l2(0.005)))\n",
    "\n",
    "model.add(Activation('relu'))\n",
    "    #Second 5x5 convlutional layer 36 filters\n",
    "model.add(Convolution2D(36, 5, 5, subsample=(2, 2), W_regularizer=l2(0.005)))\n",
    "model.add(Activation('relu'))\n",
    "    #Third 5x5 convlutional layer 48 filters\n",
    "model.add(Convolution2D(48, 5, 5, subsample=(2, 2), W_regularizer=l2(0.005)))\n",
    "model.add(Activation('relu'))\n",
    "\n",
    "#Then with 2 1-stride 3x3 convlolutional layers\n",
    "    #First3x3 convolutional layer\n",
    "model.add(Convolution2D(64, 3, 3, subsample=(1, 1), W_regularizer=l2(0.001)))\n",
    "model.add(Activation('relu'))\n",
    "    #First3x3 convolutional layer\n",
    "model.add(Convolution2D(64, 3, 3, subsample=(1, 1), W_regularizer=l2(0.001)))\n",
    "model.add(Activation('relu'))\n",
    "\n",
    "#At last with 3 fully connected layers\n",
    "    #Flatten the previous results\n",
    "model.add(Flatten())\n",
    "    #First fully connected layer\n",
    "model.add(Dense(100, W_regularizer=l2(0.001)))\n",
    "model.add(Activation('relu'))\n",
    "    #Second fully connected layer\n",
    "model.add(Dense(50, W_regularizer=l2(0.001)))\n",
    "model.add(Activation('relu'))\n",
    "    #Third fully connected layer\n",
    "model.add(Dense(10, W_regularizer=l2(0.001)))\n",
    "model.add(Activation('relu'))\n",
    "\n",
    "#Output layer\n",
    "model.add(Dense(1, W_regularizer=l2(0.001)))\n",
    "keras.optimizers.Adam(lr=0.0001)\n",
    "model.compile(loss = 'mse', optimizer = 'adam')\n",
    "model.fit_generator(train_generator, samples_per_epoch=\\\n",
    "                    len(train_data) * 2, validation_data=validation_generator,\\\n",
    "            nb_val_samples=len(validation_data), nb_epoch=7)\n",
    "\n",
    "model.save('model1.h5')"
   ]
  },
  {
   "cell_type": "code",
   "execution_count": 3,
   "metadata": {
    "collapsed": false,
    "scrolled": true
   },
   "outputs": [
    {
     "name": "stdout",
     "output_type": "stream",
     "text": [
      "Epoch 1/5\n",
      "50596/50596 [==============================] - 29s - loss: 0.0798 - val_loss: 0.0690\n",
      "Epoch 2/5\n",
      "50596/50596 [==============================] - 28s - loss: 0.0687 - val_loss: 0.0699\n",
      "Epoch 3/5\n",
      "50596/50596 [==============================] - 28s - loss: 0.0646 - val_loss: 0.0633\n",
      "Epoch 4/5\n",
      "50596/50596 [==============================] - 28s - loss: 0.0614 - val_loss: 0.0658\n",
      "Epoch 5/5\n",
      "50596/50596 [==============================] - 28s - loss: 0.0587 - val_loss: 0.0602\n"
     ]
    }
   ],
   "source": [
    "import tensorflow as tf\n",
    "import keras\n",
    "from keras.models import Sequential\n",
    "from keras.layers.core import Dense, Activation, Flatten, Lambda, Dropout\n",
    "from keras.layers.convolutional import Convolution2D\n",
    "from keras.layers.pooling import MaxPooling2D\n",
    "from keras.regularizers import l2\n",
    "\n",
    "model = Sequential()\n",
    "model.add(Lambda(lambda x: x / 255. - 0.5, input_shape = (66, 200, 3)))\n",
    "#The network structre is mimicing from Nvidia' paper\n",
    "#First with 3 5x5 convolutional layers\n",
    "    #First 5x5 convlutional layer 24 filters\n",
    "model.add(Convolution2D(24, 5, 5, subsample=(2, 2)))\n",
    "\n",
    "model.add(Activation('relu'))\n",
    "    #Second 5x5 convlutional layer 36 filters\n",
    "model.add(Convolution2D(36, 5, 5, subsample=(2, 2)))\n",
    "model.add(Activation('relu'))\n",
    "    #Third 5x5 convlutional layer 48 filters\n",
    "model.add(Convolution2D(48, 5, 5, subsample=(2, 2)))\n",
    "model.add(Activation('relu'))\n",
    "\n",
    "#Then with 2 1-stride 3x3 convlolutional layers\n",
    "    #First3x3 convolutional layer\n",
    "model.add(Convolution2D(64, 3, 3, subsample=(1, 1)))\n",
    "model.add(Activation('relu'))\n",
    "    #First3x3 convolutional layer\n",
    "model.add(Convolution2D(64, 3, 3, subsample=(1, 1)))\n",
    "model.add(Activation('relu'))\n",
    "model.add(Dropout(0.1))\n",
    "#At last with 3 fully connected layers\n",
    "    #Flatten the previous results\n",
    "model.add(Flatten())\n",
    "    #First fully connected layer\n",
    "model.add(Dense(100))\n",
    "model.add(Activation('relu'))\n",
    "    #Second fully connected layer\n",
    "model.add(Dense(50))\n",
    "model.add(Activation('relu'))\n",
    "    #Third fully connected layer\n",
    "model.add(Dense(10))\n",
    "model.add(Activation('relu'))\n",
    "\n",
    "#Output layer\n",
    "model.add(Dense(1))\n",
    "keras.optimizers.Adam(lr=0.00001)\n",
    "model.compile(loss = 'mse', optimizer = 'adam')\n",
    "model.fit_generator(train_generator, samples_per_epoch=\\\n",
    "                    len(train_data) * 2, validation_data=validation_generator,\\\n",
    "            nb_val_samples=len(validation_data), nb_epoch=5)\n",
    "\n",
    "model.save('model2.h5') \n",
    "    \n",
    "    "
   ]
  },
  {
   "cell_type": "code",
   "execution_count": 10,
   "metadata": {
    "collapsed": false
   },
   "outputs": [
    {
     "name": "stdout",
     "output_type": "stream",
     "text": [
      "1.2.1\n"
     ]
    }
   ],
   "source": [
    "import keras\n",
    "print(keras.__version__)\n",
    ", W_regularizer=l2(0.005)"
   ]
  },
  {
   "cell_type": "code",
   "execution_count": null,
   "metadata": {
    "collapsed": true
   },
   "outputs": [],
   "source": [
    "\n",
    "import base64\n",
    "from datetime import datetime\n",
    "import os\n",
    "import shutil\n",
    "\n",
    "import numpy as np\n",
    "import socketio\n",
    "import eventlet\n",
    "import eventlet.wsgi\n",
    "from PIL import Image\n",
    "from flask import Flask\n",
    "from io import BytesIO\n",
    "\n",
    "from keras.models import load_model\n",
    "import h5py\n",
    "from keras import __version__ as keras_version\n",
    "\n",
    "sio = socketio.Server()\n",
    "app = Flask(__name__)\n",
    "model = None\n",
    "prev_image_array = None"
   ]
  },
  {
   "cell_type": "code",
   "execution_count": null,
   "metadata": {
    "collapsed": true
   },
   "outputs": [],
   "source": []
  }
 ],
 "metadata": {
  "kernelspec": {
   "display_name": "Python 3",
   "language": "python",
   "name": "python3"
  },
  "language_info": {
   "codemirror_mode": {
    "name": "ipython",
    "version": 3
   },
   "file_extension": ".py",
   "mimetype": "text/x-python",
   "name": "python",
   "nbconvert_exporter": "python",
   "pygments_lexer": "ipython3",
   "version": "3.6.0"
  }
 },
 "nbformat": 4,
 "nbformat_minor": 2
}
